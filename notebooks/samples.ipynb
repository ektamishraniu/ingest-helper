{
 "cells": [
  {
   "cell_type": "code",
   "execution_count": null,
   "metadata": {},
   "outputs": [],
   "source": [
    "# Sample spark job to make sure the kernel is running correctly\n",
    "\n",
    "import random\n",
    "num_samples = 100000000\n",
    "def inside(p):     \n",
    "  x, y = random.random(), random.random()\n",
    "  return x*x + y*y < 1\n",
    "count = sc.parallelize(range(0, num_samples)).filter(inside).count()\n",
    "pi = 4 * count / num_samples\n",
    "print(pi)"
   ]
  },
  {
   "cell_type": "code",
   "execution_count": null,
   "metadata": {},
   "outputs": [],
   "source": [
    "# Sample for how to run a spark job in the structure that the Transformation team uses.\n",
    "\n",
    "from enterprise_sales_process.process_box_edw_sales import ProcessBoxEDWSales\n",
    "\n",
    "from spark_process_common.data_loaders import CompositeDataLoader, CsvDataLoader, OrcDataLoader\n",
    "from spark_process_common.spark_context import JupyterSparkContext\n",
    "\n",
    "csv_source_paths = {\n",
    "    \"edwsales_source\": { \"path\": \"../enterprise_sales_process/tests/fixtures/edw_sales.csv\", \"delim\": '|'},\n",
    "    \"dasamount_source\": { \"path\": \"../enterprise_sales_process/tests/fixtures/das_sales.csv\" },\n",
    "    \"dastons_source\": { \"path\": \"../enterprise_sales_process/tests/fixtures/das_sales_tons.csv\" }\n",
    "}\n",
    "orc_source_paths = {\n",
    "    \"objacctmapping_source\": \"../enterprise_sales_process/tests/fixtures/object-account-mapping.orc\",\n",
    "    \"boxplants_source\": \"../enterprise_sales_process/tests/fixtures/box-plants.orc\",\n",
    "    \"boxstyles_source\": \"../enterprise_sales_process/tests/fixtures/box-styles.orc\",\n",
    "    \"statecodes_source\": \"../enterprise_sales_process/tests/fixtures/state-codes.orc\",\n",
    "    \"bucurrencyconv_source\": \"../enterprise_sales_process/tests/fixtures/bu-currency-conversions.orc\",\n",
    "    \"currencyconv_source\": \"../enterprise_sales_process/tests/fixtures/currency-conversion-rates.orc\"\n",
    "}\n",
    "\n",
    "csv_data_loader = CsvDataLoader(csv_source_paths)\n",
    "orc_data_loader = OrcDataLoader(orc_source_paths)\n",
    "comp_data_loader = CompositeDataLoader([csv_data_loader, orc_data_loader])\n",
    "\n",
    "spark_context = JupyterSparkContext(sc)\n",
    "\n",
    "boxEDWSales = ProcessBoxEDWSales(comp_data_loader, spark_context)\n",
    "df = boxEDWSales.transform()\n",
    "df.show()"
   ]
  },
  {
   "cell_type": "code",
   "execution_count": null,
   "metadata": {},
   "outputs": [],
   "source": [
    "print(os.environ[\"PYTHONPATH\"])\n",
    "print(os.environ[\"SPARK_HOME\"])"
   ]
  },
  {
   "cell_type": "code",
   "execution_count": null,
   "metadata": {},
   "outputs": [],
   "source": [
    "# This is needed to read files directly from S3.  It only needs to be executed once per kernel session.  \n",
    "# The keys can be found in the AWS Resources wiki under the Enterprise Sales tab in teams.\n",
    "\n",
    "sc._jsc.hadoopConfiguration().set(\"fs.s3a.access.key\", \"ACCESS_KEY\")\n",
    "sc._jsc.hadoopConfiguration().set(\"fs.s3a.secret.key\", \"SECRET_KEY\")"
   ]
  },
  {
   "cell_type": "code",
   "execution_count": null,
   "metadata": {},
   "outputs": [],
   "source": [
    "# This is a sample of how to load a CSV file from S3.\n",
    "\n",
    "df = sqlContext.read.format(\"csv\") \\\n",
    "        .option(\"header\",\"true\") \\\n",
    "        .option(\"inferSchema\",\"true\") \\\n",
    "        .load(\"s3a://wrktdtransformationrawproddtl001/enterprise-sales/edw/ParentCustomer/EDW_parentCustomer.csv\")\n",
    "\n",
    "df.show(20)"
   ]
  },
  {
   "cell_type": "code",
   "execution_count": null,
   "metadata": {},
   "outputs": [],
   "source": []
  }
 ],
 "metadata": {
  "kernelspec": {
   "display_name": "Spark 2.3.0 (venv3)",
   "language": "python",
   "name": "pyspark_venv36"
  },
  "language_info": {
   "codemirror_mode": {
    "name": "ipython",
    "version": 3
   },
   "file_extension": ".py",
   "mimetype": "text/x-python",
   "name": "python",
   "nbconvert_exporter": "python",
   "pygments_lexer": "ipython3",
   "version": "3.6.5"
  }
 },
 "nbformat": 4,
 "nbformat_minor": 2
}
